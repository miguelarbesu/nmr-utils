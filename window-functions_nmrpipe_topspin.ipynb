{
 "cells": [
  {
   "cell_type": "code",
   "execution_count": 51,
   "metadata": {},
   "outputs": [],
   "source": [
    "import numpy as np\n",
    "import ipywidgets as widgets\n",
    "from ipywidgets import interact\n",
    "import matplotlib.pyplot as plt"
   ]
  },
  {
   "cell_type": "markdown",
   "metadata": {},
   "source": [
    "## NMRPipe SP window function"
   ]
  },
  {
   "cell_type": "code",
   "execution_count": 92,
   "metadata": {},
   "outputs": [
    {
     "data": {
      "application/vnd.jupyter.widget-view+json": {
       "model_id": "5c8a695357cf4f67a123b64e55e3d65c",
       "version_major": 2,
       "version_minor": 0
      },
      "text/plain": [
       "interactive(children=(FloatSlider(value=0.48, description='offset', max=1.0, step=0.06), IntSlider(value=2, de…"
      ]
     },
     "metadata": {},
     "output_type": "display_data"
    }
   ],
   "source": [
    "size = 128\n",
    "x = np.linspace(0, size, size)\n",
    "\n",
    "@interact(offset=(0.0, 1.0, 0.06), power=(1,4,1), end=(0.8, 1.0, 0.05))\n",
    "def sp(offset=0.48, power=2, end=0.95):\n",
    "    sp = np.sin(np.pi*offset + (np.pi*(end-offset)*x)/(size-1))**power\n",
    "    plt.plot(sp)\n",
    "    plt.xlim(0,size)\n",
    "    plt.ylim(0,1)"
   ]
  },
  {
   "cell_type": "markdown",
   "metadata": {},
   "source": [
    "## Topspin QSINE window function"
   ]
  },
  {
   "cell_type": "markdown",
   "metadata": {},
   "source": [
    "Bruker claims that `SSB<2` returns just a `sin` window, as `SSB=1`.\n",
    "\n",
    "I only get a pure `sin` function when `SSB=0.5`, so set the behavior as they claim it works. "
   ]
  },
  {
   "cell_type": "code",
   "execution_count": 95,
   "metadata": {},
   "outputs": [
    {
     "data": {
      "application/vnd.jupyter.widget-view+json": {
       "model_id": "8e3dd46c21d441108b0f4257359e26bc",
       "version_major": 2,
       "version_minor": 0
      },
      "text/plain": [
       "interactive(children=(IntSlider(value=2, description='SSB', max=10, min=1), Output()), _dom_classes=('widget-i…"
      ]
     },
     "metadata": {},
     "output_type": "display_data"
    }
   ],
   "source": [
    "aq = 40\n",
    "t = np.linspace(0, aq, aq)\n",
    "\n",
    "@interact(SSB=(1,10,1))\n",
    "def qsine(SSB=2):\n",
    "    \n",
    "    if SSB < 2.0:\n",
    "        phi = np.pi/0.5\n",
    "    else:\n",
    "        phi = np.pi/SSB\n",
    "    qsine = np.sin((np.pi-phi)*(t/aq)+phi)**2    \n",
    "    plt.plot(qsine)\n",
    "    plt.xlim(0,aq)\n",
    "    plt.ylim(0,1)"
   ]
  },
  {
   "cell_type": "code",
   "execution_count": null,
   "metadata": {},
   "outputs": [],
   "source": []
  }
 ],
 "metadata": {
  "kernelspec": {
   "display_name": "Python 3",
   "language": "python",
   "name": "python3"
  },
  "language_info": {
   "codemirror_mode": {
    "name": "ipython",
    "version": 3
   },
   "file_extension": ".py",
   "mimetype": "text/x-python",
   "name": "python",
   "nbconvert_exporter": "python",
   "pygments_lexer": "ipython3",
   "version": "3.7.3"
  }
 },
 "nbformat": 4,
 "nbformat_minor": 4
}
